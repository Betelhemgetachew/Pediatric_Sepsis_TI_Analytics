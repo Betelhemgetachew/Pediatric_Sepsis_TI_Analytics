{
 "cells": [
  {
   "cell_type": "code",
   "execution_count": 10,
   "id": "ff89b346",
   "metadata": {},
   "outputs": [],
   "source": [
    "import pandas as pd"
   ]
  },
  {
   "cell_type": "code",
   "execution_count": 11,
   "id": "9efe5151",
   "metadata": {},
   "outputs": [
    {
     "name": "stdout",
     "output_type": "stream",
     "text": [
      "   studyid_adm  agecalc_adm  height_cm_adm  weight_kg_adm  muac_mm_adm  \\\n",
      "0            1         16.8           79.8           11.6        150.0   \n",
      "1            2         46.1           93.0           13.6        151.0   \n",
      "2            3          7.9           68.2            8.2        148.0   \n",
      "3            4         38.2           95.0           12.0        138.0   \n",
      "4            5         16.1           83.0           12.0        165.0   \n",
      "\n",
      "   hr_bpm_adm  rr_brpm_app_adm  sysbp_mmhg_adm  diasbp_mmhg_adm  temp_c_adm  \\\n",
      "0       130.0             23.0            92.0             54.0        36.3   \n",
      "1       115.0             35.0            72.0             42.0        36.8   \n",
      "2       150.0             56.0            94.0             51.0        37.2   \n",
      "3       134.0             38.0            94.0             57.0        37.6   \n",
      "4       163.0             61.0           107.0             73.0        38.7   \n",
      "\n",
      "   ...                                        cookloc_adm  \\\n",
      "0  ...  In a separate building/building space used as ...   \n",
      "1  ...  In a separate building/building space used as ...   \n",
      "2  ...  In a separate building/building space used as ...   \n",
      "3  ...                       In the house where you sleep   \n",
      "4  ...                               Outdoors in the open   \n",
      "\n",
      "                    lightfuel_adm  tobacco_adm  bednet_adm  \\\n",
      "0  Electric bulbs (national grid)        Never      Always   \n",
      "1                         Tadooba        Never      Always   \n",
      "2                         Tadooba        Never      Always   \n",
      "3  Electric bulbs (national grid)        Never      Always   \n",
      "4  Electric bulbs (national grid)        Never   Sometimes   \n",
      "\n",
      "   hctpretransfusion_adm  hivstatus_adm  malariastatuspos_adm  lengthadm  \\\n",
      "0                    Yes   HIV negative                    No          2   \n",
      "1                    Yes   HIV negative                   Yes          5   \n",
      "2                    Yes   HIV negative                    No          4   \n",
      "3                    NaN   HIV negative                   Yes          5   \n",
      "4                    Yes   HIV negative                   Yes          7   \n",
      "\n",
      "   caregiver_adm_new  inhospital_mortality  \n",
      "0             Mother                     0  \n",
      "1             Mother                     0  \n",
      "2             Mother                     0  \n",
      "3             Mother                     0  \n",
      "4             Mother                     0  \n",
      "\n",
      "[5 rows x 138 columns]\n"
     ]
    }
   ],
   "source": [
    "sepsis_df=pd.read_csv(\"SyntheticData_Training.csv\")\n",
    "print(sepsis_df.head())"
   ]
  }
 ],
 "metadata": {
  "kernelspec": {
   "display_name": "Python 3",
   "language": "python",
   "name": "python3"
  },
  "language_info": {
   "codemirror_mode": {
    "name": "ipython",
    "version": 3
   },
   "file_extension": ".py",
   "mimetype": "text/x-python",
   "name": "python",
   "nbconvert_exporter": "python",
   "pygments_lexer": "ipython3",
   "version": "3.12.10"
  }
 },
 "nbformat": 4,
 "nbformat_minor": 5
}
